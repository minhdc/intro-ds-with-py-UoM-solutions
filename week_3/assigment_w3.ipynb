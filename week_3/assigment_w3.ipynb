{
 "cells": [
  {
   "cell_type": "code",
   "execution_count": 1,
   "id": "dee563fc",
   "metadata": {},
   "outputs": [],
   "source": [
    "import pandas as pd\n",
    "import numpy as np\n",
    "\n",
    "import warnings\n",
    "warnings.filterwarnings('ignore')"
   ]
  },
  {
   "cell_type": "markdown",
   "id": "b2b1027c",
   "metadata": {},
   "source": [
    "### Question 1\n",
    "\n",
    "#### What to do ?\n",
    "\n",
    "- Load the Energy Excel File\n",
    "    - Specify the range\n",
    "    - Change the column labels\n",
    "    - Do some unit conversions\n",
    "    - Cell values replacement\n",
    " \n",
    "- Load the GDP csv\n",
    "    - Specifiy the range\n",
    "    - Replace cell values\n",
    "\n",
    "- Load the ScimEn csv\n",
    "\n",
    "- Join the 3 above dataset by Country, get top 15 according to the ScimEn dataset"
   ]
  },
  {
   "cell_type": "code",
   "execution_count": 3,
   "id": "55155cae",
   "metadata": {},
   "outputs": [],
   "source": [
    "def answer_one():\n",
    "    import pandas as pd\n",
    "    import numpy as np\n",
    "\n",
    "    x = pd.ExcelFile('assets/Energy Indicators.xls')\n",
    "    \n",
    "    # Energy dataset ###################\n",
    "    # specify the range + rename columns\n",
    "    energy = x.parse(skiprows=17,skip_footer=(38))\n",
    "    energy = energy[['Unnamed: 1','Petajoules','Gigajoules','%']]\n",
    "    energy.columns = ['Country', 'Energy Supply', 'Energy Supply per Capita', '% Renewable']\n",
    "    energy[['Energy Supply', 'Energy Supply per Capita', '% Renewable']] = energy[[\n",
    "        'Energy Supply', 'Energy Supply per Capita', '% Renewable'\n",
    "        ]].replace('...',np.NaN).apply(pd.to_numeric)\n",
    "    \n",
    "    # unit conversion\n",
    "    energy['Energy Supply'] = energy['Energy Supply']*1000000\n",
    "    \n",
    "    # cell values replacement\n",
    "    energy['Country'] = energy['Country'].replace(\n",
    "        {'China, Hong Kong Special Administrative Region':'Hong Kong',\n",
    "         'United Kingdom of Great Britain and Northern Ireland':'United Kingdom',\n",
    "         'Republic of Korea':'South Korea',\n",
    "         'United States of America':'United States',\n",
    "         'Iran (Islamic Republic of)':'Iran'})\n",
    "    energy['Country'] = energy['Country'].str.replace(r\" \\(.*\\)\",\"\")\n",
    "    \n",
    "    # GDP ###############################\n",
    "    #\n",
    "    GDP = pd.read_csv('assets/world_bank.csv',skiprows=4)\n",
    "    GDP['Country Name'] = GDP['Country Name'].replace('Korea, Rep.','South Korea')\n",
    "    GDP['Country Name'] = GDP['Country Name'].replace('Iran, Islamic Rep.','Iran')\n",
    "    GDP['Country Name'] = GDP['Country Name'].replace('Hong Kong SAR, China','Hong Kong')\n",
    "    GDP = GDP[\n",
    "        ['Country Name',\n",
    "         '2006','2007','2008','2009','2010',\n",
    "         '2011','2012','2013','2014','2015']\n",
    "    ]\n",
    "    GDP.columns = [\n",
    "        'Country',\n",
    "        '2006','2007','2008','2009','2010',\n",
    "        '2011','2012','2013','2014','2015'\n",
    "    ]\n",
    "    \n",
    "    # ScimEn ############################\n",
    "    ScimEn = pd.read_excel(io='assets/scimagojr-3.xlsx')\n",
    "    ScimEn_m = ScimEn[:15]\n",
    "    \n",
    "    df = pd.merge(ScimEn_m,energy,how='inner',left_on='Country',right_on='Country')\n",
    "    final_df = pd.merge(df,GDP,how='inner',left_on='Country',right_on='Country')\n",
    "    final_df = final_df.set_index('Country')\n",
    "    \n",
    "    return final_df"
   ]
  },
  {
   "cell_type": "markdown",
   "id": "6160455b",
   "metadata": {},
   "source": [
    "### Question 2\n",
    "\n",
    "#### What to do ?\n",
    "\n",
    "- calculate the diff between len(ScimEn) - len(ScimEn_m)"
   ]
  },
  {
   "cell_type": "markdown",
   "id": "5c935893",
   "metadata": {},
   "source": [
    "### Question 3\n",
    "#### What to do ?\n",
    "- top 15 countries for average GDP over 10 years (from 2006-2015)"
   ]
  },
  {
   "cell_type": "code",
   "execution_count": 2,
   "id": "51da6de7",
   "metadata": {},
   "outputs": [],
   "source": [
    "def answer_three():\n",
    "    \n",
    "    top_15 = answer_one()\n",
    "    columns = [str(x) for x in range(2006,2016)]\n",
    "    avgGDP = top_15[columns]\\\n",
    "            .mean(axis=1).rename('avgGDP')\\\n",
    "            .sort_values(ascending=False)\n",
    "    \n",
    "    return avgGDP"
   ]
  },
  {
   "cell_type": "markdown",
   "id": "352add60",
   "metadata": {},
   "source": [
    "### Question 4\n",
    "#### What to do ?\n",
    "- Simple arithmetic operations"
   ]
  },
  {
   "cell_type": "code",
   "execution_count": 5,
   "id": "22208169",
   "metadata": {},
   "outputs": [],
   "source": [
    "def answer_four():\n",
    "    \n",
    "    top_15 = answer_one()\n",
    "    answer = top_15[top_15['Rank'] == 4]['2015'] - top_15[top_15['Rank'] == 4]['2006']\n",
    "    \n",
    "    return answer.values[0]"
   ]
  },
  {
   "cell_type": "markdown",
   "id": "aa72a36a",
   "metadata": {},
   "source": [
    "### Question 5\n",
    "#### What to do ?\n",
    "- Simple arithmetic operations"
   ]
  },
  {
   "cell_type": "code",
   "execution_count": 6,
   "id": "4cbc21b2",
   "metadata": {},
   "outputs": [],
   "source": [
    "def answer_five():\n",
    "    top_15 = answer_one()\n",
    "    return top_15['Energy Supply per Capita'].mean()"
   ]
  },
  {
   "cell_type": "markdown",
   "id": "a1b604ca",
   "metadata": {},
   "source": [
    "### Question 6\n",
    "#### What to do ?\n",
    "- find max value"
   ]
  },
  {
   "cell_type": "code",
   "execution_count": 7,
   "id": "bfc82b7b",
   "metadata": {},
   "outputs": [],
   "source": [
    "def answer_six():\n",
    "    \n",
    "    top_15 = answer_one()\n",
    "    max_ = top_15['% Renewable'].max()\n",
    "    country_name = top_15[top_15['% Renewable'] == top_15['% Renewable'].max()].index[0]\n",
    "    return (country_name, max_)"
   ]
  },
  {
   "cell_type": "markdown",
   "id": "45e1604e",
   "metadata": {},
   "source": [
    "### Question 7\n",
    "#### What to do ?\n",
    "- perform axes calculations\n",
    "- find max"
   ]
  },
  {
   "cell_type": "code",
   "execution_count": 8,
   "id": "71f3dd20",
   "metadata": {},
   "outputs": [],
   "source": [
    "def answer_seven():\n",
    "    \n",
    "    top_15 = answer_one()\n",
    "    top_15['citation_ratio'] = top_15['Self-citations'] / top_15['Citations']\n",
    "    max_ = top_15['citation_ratio'].max()\n",
    "    country = top_15[top_15['citation_ratio'] == top_15['citation_ratio'].max()].index[0]\n",
    "    \n",
    "    return (country,value)"
   ]
  },
  {
   "cell_type": "markdown",
   "id": "2e0eb4dd",
   "metadata": {},
   "source": [
    "### Question 8\n",
    "#### What to do ?\n",
    "- perform axes calculations\n",
    "- find and item based on ranking"
   ]
  },
  {
   "cell_type": "code",
   "execution_count": 9,
   "id": "78563ee1",
   "metadata": {},
   "outputs": [],
   "source": [
    "def answer_eight():\n",
    "    \n",
    "    top_15 = answer_one()\n",
    "    top_15.columns\n",
    "    top_15['estimated_pop']= top_15['Energy Supply'] / top_15['Energy Supply per Capita']\n",
    "    country = top_15['estimated_pop'].sort_values(ascending=False).index[2]\n",
    "    \n",
    "    return country"
   ]
  },
  {
   "cell_type": "markdown",
   "id": "dc691546",
   "metadata": {},
   "source": [
    "### Question 9\n",
    "#### What to do ?\n",
    "- perform axes calculations\n",
    "- calculate correlations"
   ]
  },
  {
   "cell_type": "code",
   "execution_count": 10,
   "id": "37a0737d",
   "metadata": {},
   "outputs": [],
   "source": [
    "def answer_nine():\n",
    "    \n",
    "    top_15 = answer_one()\n",
    "    top_15['estimated_pop']= top_15['Energy Supply'] / top_15['Energy Supply per Capita']\n",
    "    top_15['citable_docs_per_person'] = top_15['Citable documents'] / top_15['estimated_pop']   \n",
    "    \n",
    "    return top_15['Energy Supply per Capita'].corr(top_15['citable_docs_per_person'])"
   ]
  },
  {
   "cell_type": "markdown",
   "id": "caae8e58",
   "metadata": {},
   "source": [
    "### Question 10\n",
    "#### What to do ?\n",
    "- perform axes calculations & create a column based on the result\n",
    "- calculate correlations"
   ]
  },
  {
   "cell_type": "code",
   "execution_count": 11,
   "id": "9cec4c6e",
   "metadata": {},
   "outputs": [],
   "source": [
    "def answer_ten():\n",
    "    \n",
    "    top_15 = answer_one()\n",
    "    top_15['HighRenew'] = [1 if x >= top_15['% Renewable'].median() else 0 for x in top_15['% Renewable']]\n",
    "    \n",
    "    return top_15['HighRenew']"
   ]
  },
  {
   "cell_type": "markdown",
   "id": "f66aef97",
   "metadata": {},
   "source": [
    "### Question 11\n",
    "#### What to do ?\n",
    "- create a new column\n",
    "- perform aggregation function on grouped-by DF"
   ]
  },
  {
   "cell_type": "code",
   "execution_count": 13,
   "id": "1e0ea74a",
   "metadata": {},
   "outputs": [],
   "source": [
    "def answer_eleven():\n",
    "    ContinentDict  = {'China':'Asia', \n",
    "                  'United States':'North America', \n",
    "                  'Japan':'Asia', \n",
    "                  'United Kingdom':'Europe', \n",
    "                  'Russian Federation':'Europe', \n",
    "                  'Canada':'North America', \n",
    "                  'Germany':'Europe', \n",
    "                  'India':'Asia',\n",
    "                  'France':'Europe', \n",
    "                  'South Korea':'Asia', \n",
    "                  'Italy':'Europe', \n",
    "                  'Spain':'Europe', \n",
    "                  'Iran':'Asia',\n",
    "                  'Australia':'Australia', \n",
    "                  'Brazil':'South America'}\n",
    "    top_15 = answer_one()\n",
    "    top_15['PopEst'] = (top_15['Energy Supply'] / top_15['Energy Supply per Capita']).astype(float)\n",
    "    top_15 = top_15.reset_index()\n",
    "    top_15['Continent'] = [ContinentDict[country] for country in top_15['Country']]\n",
    "    \n",
    "    answer = top_15.set_index('Continent').groupby(level=0)['PopEst'].agg({\n",
    "        'size':np.size, 'sum':np.sum, 'mean':np.mean, 'std':np.std\n",
    "    })\n",
    "    answer = answer[['size','sum','mean','std']]\n",
    "    \n",
    "    return answer"
   ]
  },
  {
   "cell_type": "markdown",
   "id": "315b8368",
   "metadata": {},
   "source": [
    "### Question 12\n",
    "#### What to do ?\n",
    "- cut DF"
   ]
  },
  {
   "cell_type": "code",
   "execution_count": 15,
   "id": "323dc209",
   "metadata": {},
   "outputs": [],
   "source": [
    "def answer_twelve():\n",
    "    \n",
    "    ContinentDict  = {'China':'Asia', \n",
    "                  'United States':'North America', \n",
    "                  'Japan':'Asia', \n",
    "                  'United Kingdom':'Europe', \n",
    "                  'Russian Federation':'Europe', \n",
    "                  'Canada':'North America', \n",
    "                  'Germany':'Europe', \n",
    "                  'India':'Asia',\n",
    "                  'France':'Europe', \n",
    "                  'South Korea':'Asia', \n",
    "                  'Italy':'Europe', \n",
    "                  'Spain':'Europe', \n",
    "                  'Iran':'Asia',\n",
    "                  'Australia':'Australia', \n",
    "                  'Brazil':'South America'}\n",
    "    \n",
    "    top_15 = answer_one()\n",
    "    top_15.reset_index()\n",
    "    top_15['Continent'] = [ContinentDict[country] for country in top_15['Country']]\n",
    "    top_15['bins'] = pd.cut(top_15['% Renewable'],5)\n",
    "    x = top_15.groupby(['Continent','bins']).size()\n",
    "    x.index.names = ['Continent','% Renewable']\n",
    "    \n",
    "    return x"
   ]
  },
  {
   "cell_type": "markdown",
   "id": "41530996",
   "metadata": {},
   "source": [
    "### Question 13\n",
    "#### What to do ?\n",
    "- formatting"
   ]
  },
  {
   "cell_type": "code",
   "execution_count": 16,
   "id": "32f26bb2",
   "metadata": {},
   "outputs": [],
   "source": [
    "def answer_thirteen():\n",
    "    \n",
    "    top_15 = answer_one()\n",
    "    top_15['PopEst'] =  (top_15['Energy Supply'] / top_15['Energy Supply per Capita']).astype(float)  \n",
    "    \n",
    "    top_15['PopEst'] = top_15['PopEst'].apply(lambda x: \"{:,}\".format(x))\n",
    "    return top_15['PopEst']"
   ]
  }
 ],
 "metadata": {
  "kernelspec": {
   "display_name": "Python 3",
   "language": "python",
   "name": "python3"
  },
  "language_info": {
   "codemirror_mode": {
    "name": "ipython",
    "version": 3
   },
   "file_extension": ".py",
   "mimetype": "text/x-python",
   "name": "python",
   "nbconvert_exporter": "python",
   "pygments_lexer": "ipython3",
   "version": "3.8.8"
  }
 },
 "nbformat": 4,
 "nbformat_minor": 5
}
